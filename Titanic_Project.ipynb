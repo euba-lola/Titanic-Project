{
 "cells": [
  {
   "cell_type": "markdown",
   "id": "e210938d-6c05-4a89-8038-2e1dea2cfba0",
   "metadata": {},
   "source": [
    "## Introduction\n",
    "\n",
    "The sinking of the RMS Titanic is one of the most infamous shipwrecks in history. On April 15, 1912, the Titanic sank after colliding with an iceberg, resulting in the deaths of over 1,500 passengers and crew. The tragedy has since become a well-known case study in data science and predictive modeling due to the availability of detailed passenger data.\n",
    "\n",
    "This project aims to analyze the Titanic dataset and build a machine learning model that can accurately predict whether a given passenger would have survived the disaster. By exploring and modeling key features such as age, sex, ticket class, fare, and port of embarkation, this project provides insights into the factors that contributed to survival outcomes.\n",
    "\n",
    "---\n",
    "\n",
    "## Problem Statement\n",
    "\n",
    "The objective of this classification task is to predict the survival status of Titanic passengers using machine learning. Given various passenger attributes such as age, gender, class, fare, and family relationships aboard, the goal is to build a model that outputs:\n",
    "\n",
    "- `1` if the passenger survived\n",
    "- `0` if the passenger did not survive"
   ]
  },
  {
   "cell_type": "markdown",
   "id": "38492017-517e-44fa-8633-2e80422c8d2d",
   "metadata": {},
   "source": [
    "## Import necessary libraries"
   ]
  },
  {
   "cell_type": "code",
   "execution_count": 1,
   "id": "f295a73e-29ce-4b4d-ab25-d50a1ac67302",
   "metadata": {},
   "outputs": [],
   "source": [
    "import pandas as pd\n",
    "import numpy as np\n",
    "import seaborn as sns\n",
    "import matplotlib.pyplot as plt"
   ]
  },
  {
   "cell_type": "markdown",
   "id": "416d2700-1047-4099-8aac-e716069dc77e",
   "metadata": {},
   "source": [
    "# Import Dataset"
   ]
  },
  {
   "cell_type": "code",
   "execution_count": 2,
   "id": "b7dbcce0-274c-4285-9acd-33eba3c8cf30",
   "metadata": {},
   "outputs": [],
   "source": [
    "df = pd.read_csv('titanic.csv')"
   ]
  },
  {
   "cell_type": "code",
   "execution_count": 3,
   "id": "bcdc9fcc-562a-4a28-a362-93e1675a06a5",
   "metadata": {},
   "outputs": [
    {
     "data": {
      "text/html": [
       "<div>\n",
       "<style scoped>\n",
       "    .dataframe tbody tr th:only-of-type {\n",
       "        vertical-align: middle;\n",
       "    }\n",
       "\n",
       "    .dataframe tbody tr th {\n",
       "        vertical-align: top;\n",
       "    }\n",
       "\n",
       "    .dataframe thead th {\n",
       "        text-align: right;\n",
       "    }\n",
       "</style>\n",
       "<table border=\"1\" class=\"dataframe\">\n",
       "  <thead>\n",
       "    <tr style=\"text-align: right;\">\n",
       "      <th></th>\n",
       "      <th>PassengerId</th>\n",
       "      <th>Survived</th>\n",
       "      <th>Pclass</th>\n",
       "      <th>Name</th>\n",
       "      <th>Sex</th>\n",
       "      <th>Age</th>\n",
       "      <th>SibSp</th>\n",
       "      <th>Parch</th>\n",
       "      <th>Ticket</th>\n",
       "      <th>Fare</th>\n",
       "      <th>Cabin</th>\n",
       "      <th>Embarked</th>\n",
       "    </tr>\n",
       "  </thead>\n",
       "  <tbody>\n",
       "    <tr>\n",
       "      <th>0</th>\n",
       "      <td>1</td>\n",
       "      <td>0</td>\n",
       "      <td>3</td>\n",
       "      <td>Braund, Mr. Owen Harris</td>\n",
       "      <td>male</td>\n",
       "      <td>22.0</td>\n",
       "      <td>1</td>\n",
       "      <td>0</td>\n",
       "      <td>A/5 21171</td>\n",
       "      <td>7.2500</td>\n",
       "      <td>NaN</td>\n",
       "      <td>S</td>\n",
       "    </tr>\n",
       "    <tr>\n",
       "      <th>1</th>\n",
       "      <td>2</td>\n",
       "      <td>1</td>\n",
       "      <td>1</td>\n",
       "      <td>Cumings, Mrs. John Bradley (Florence Briggs Th...</td>\n",
       "      <td>female</td>\n",
       "      <td>38.0</td>\n",
       "      <td>1</td>\n",
       "      <td>0</td>\n",
       "      <td>PC 17599</td>\n",
       "      <td>71.2833</td>\n",
       "      <td>C85</td>\n",
       "      <td>C</td>\n",
       "    </tr>\n",
       "    <tr>\n",
       "      <th>2</th>\n",
       "      <td>3</td>\n",
       "      <td>1</td>\n",
       "      <td>3</td>\n",
       "      <td>Heikkinen, Miss. Laina</td>\n",
       "      <td>female</td>\n",
       "      <td>26.0</td>\n",
       "      <td>0</td>\n",
       "      <td>0</td>\n",
       "      <td>STON/O2. 3101282</td>\n",
       "      <td>7.9250</td>\n",
       "      <td>NaN</td>\n",
       "      <td>S</td>\n",
       "    </tr>\n",
       "    <tr>\n",
       "      <th>3</th>\n",
       "      <td>4</td>\n",
       "      <td>1</td>\n",
       "      <td>1</td>\n",
       "      <td>Futrelle, Mrs. Jacques Heath (Lily May Peel)</td>\n",
       "      <td>female</td>\n",
       "      <td>35.0</td>\n",
       "      <td>1</td>\n",
       "      <td>0</td>\n",
       "      <td>113803</td>\n",
       "      <td>53.1000</td>\n",
       "      <td>C123</td>\n",
       "      <td>S</td>\n",
       "    </tr>\n",
       "    <tr>\n",
       "      <th>4</th>\n",
       "      <td>5</td>\n",
       "      <td>0</td>\n",
       "      <td>3</td>\n",
       "      <td>Allen, Mr. William Henry</td>\n",
       "      <td>male</td>\n",
       "      <td>35.0</td>\n",
       "      <td>0</td>\n",
       "      <td>0</td>\n",
       "      <td>373450</td>\n",
       "      <td>8.0500</td>\n",
       "      <td>NaN</td>\n",
       "      <td>S</td>\n",
       "    </tr>\n",
       "  </tbody>\n",
       "</table>\n",
       "</div>"
      ],
      "text/plain": [
       "   PassengerId  Survived  Pclass  \\\n",
       "0            1         0       3   \n",
       "1            2         1       1   \n",
       "2            3         1       3   \n",
       "3            4         1       1   \n",
       "4            5         0       3   \n",
       "\n",
       "                                                Name     Sex   Age  SibSp  \\\n",
       "0                            Braund, Mr. Owen Harris    male  22.0      1   \n",
       "1  Cumings, Mrs. John Bradley (Florence Briggs Th...  female  38.0      1   \n",
       "2                             Heikkinen, Miss. Laina  female  26.0      0   \n",
       "3       Futrelle, Mrs. Jacques Heath (Lily May Peel)  female  35.0      1   \n",
       "4                           Allen, Mr. William Henry    male  35.0      0   \n",
       "\n",
       "   Parch            Ticket     Fare Cabin Embarked  \n",
       "0      0         A/5 21171   7.2500   NaN        S  \n",
       "1      0          PC 17599  71.2833   C85        C  \n",
       "2      0  STON/O2. 3101282   7.9250   NaN        S  \n",
       "3      0            113803  53.1000  C123        S  \n",
       "4      0            373450   8.0500   NaN        S  "
      ]
     },
     "execution_count": 3,
     "metadata": {},
     "output_type": "execute_result"
    }
   ],
   "source": [
    "# I previewed the first five rows\n",
    "\n",
    "df.head()"
   ]
  },
  {
   "cell_type": "code",
   "execution_count": 4,
   "id": "594d331b-a828-44b6-a1f2-e4bc4d38b317",
   "metadata": {},
   "outputs": [
    {
     "data": {
      "text/html": [
       "<div>\n",
       "<style scoped>\n",
       "    .dataframe tbody tr th:only-of-type {\n",
       "        vertical-align: middle;\n",
       "    }\n",
       "\n",
       "    .dataframe tbody tr th {\n",
       "        vertical-align: top;\n",
       "    }\n",
       "\n",
       "    .dataframe thead th {\n",
       "        text-align: right;\n",
       "    }\n",
       "</style>\n",
       "<table border=\"1\" class=\"dataframe\">\n",
       "  <thead>\n",
       "    <tr style=\"text-align: right;\">\n",
       "      <th></th>\n",
       "      <th>PassengerId</th>\n",
       "      <th>Survived</th>\n",
       "      <th>Pclass</th>\n",
       "      <th>Name</th>\n",
       "      <th>Sex</th>\n",
       "      <th>Age</th>\n",
       "      <th>SibSp</th>\n",
       "      <th>Parch</th>\n",
       "      <th>Ticket</th>\n",
       "      <th>Fare</th>\n",
       "      <th>Cabin</th>\n",
       "      <th>Embarked</th>\n",
       "    </tr>\n",
       "  </thead>\n",
       "  <tbody>\n",
       "    <tr>\n",
       "      <th>886</th>\n",
       "      <td>887</td>\n",
       "      <td>0</td>\n",
       "      <td>2</td>\n",
       "      <td>Montvila, Rev. Juozas</td>\n",
       "      <td>male</td>\n",
       "      <td>27.0</td>\n",
       "      <td>0</td>\n",
       "      <td>0</td>\n",
       "      <td>211536</td>\n",
       "      <td>13.00</td>\n",
       "      <td>NaN</td>\n",
       "      <td>S</td>\n",
       "    </tr>\n",
       "    <tr>\n",
       "      <th>887</th>\n",
       "      <td>888</td>\n",
       "      <td>1</td>\n",
       "      <td>1</td>\n",
       "      <td>Graham, Miss. Margaret Edith</td>\n",
       "      <td>female</td>\n",
       "      <td>19.0</td>\n",
       "      <td>0</td>\n",
       "      <td>0</td>\n",
       "      <td>112053</td>\n",
       "      <td>30.00</td>\n",
       "      <td>B42</td>\n",
       "      <td>S</td>\n",
       "    </tr>\n",
       "    <tr>\n",
       "      <th>888</th>\n",
       "      <td>889</td>\n",
       "      <td>0</td>\n",
       "      <td>3</td>\n",
       "      <td>Johnston, Miss. Catherine Helen \"Carrie\"</td>\n",
       "      <td>female</td>\n",
       "      <td>NaN</td>\n",
       "      <td>1</td>\n",
       "      <td>2</td>\n",
       "      <td>W./C. 6607</td>\n",
       "      <td>23.45</td>\n",
       "      <td>NaN</td>\n",
       "      <td>S</td>\n",
       "    </tr>\n",
       "    <tr>\n",
       "      <th>889</th>\n",
       "      <td>890</td>\n",
       "      <td>1</td>\n",
       "      <td>1</td>\n",
       "      <td>Behr, Mr. Karl Howell</td>\n",
       "      <td>male</td>\n",
       "      <td>26.0</td>\n",
       "      <td>0</td>\n",
       "      <td>0</td>\n",
       "      <td>111369</td>\n",
       "      <td>30.00</td>\n",
       "      <td>C148</td>\n",
       "      <td>C</td>\n",
       "    </tr>\n",
       "    <tr>\n",
       "      <th>890</th>\n",
       "      <td>891</td>\n",
       "      <td>0</td>\n",
       "      <td>3</td>\n",
       "      <td>Dooley, Mr. Patrick</td>\n",
       "      <td>male</td>\n",
       "      <td>32.0</td>\n",
       "      <td>0</td>\n",
       "      <td>0</td>\n",
       "      <td>370376</td>\n",
       "      <td>7.75</td>\n",
       "      <td>NaN</td>\n",
       "      <td>Q</td>\n",
       "    </tr>\n",
       "  </tbody>\n",
       "</table>\n",
       "</div>"
      ],
      "text/plain": [
       "     PassengerId  Survived  Pclass                                      Name  \\\n",
       "886          887         0       2                     Montvila, Rev. Juozas   \n",
       "887          888         1       1              Graham, Miss. Margaret Edith   \n",
       "888          889         0       3  Johnston, Miss. Catherine Helen \"Carrie\"   \n",
       "889          890         1       1                     Behr, Mr. Karl Howell   \n",
       "890          891         0       3                       Dooley, Mr. Patrick   \n",
       "\n",
       "        Sex   Age  SibSp  Parch      Ticket   Fare Cabin Embarked  \n",
       "886    male  27.0      0      0      211536  13.00   NaN        S  \n",
       "887  female  19.0      0      0      112053  30.00   B42        S  \n",
       "888  female   NaN      1      2  W./C. 6607  23.45   NaN        S  \n",
       "889    male  26.0      0      0      111369  30.00  C148        C  \n",
       "890    male  32.0      0      0      370376   7.75   NaN        Q  "
      ]
     },
     "execution_count": 4,
     "metadata": {},
     "output_type": "execute_result"
    }
   ],
   "source": [
    "# I previewed the last 5 rows\n",
    "\n",
    "df.tail()"
   ]
  },
  {
   "cell_type": "code",
   "execution_count": 5,
   "id": "b201ee12-bf53-4209-9f10-27324a1652ba",
   "metadata": {},
   "outputs": [
    {
     "data": {
      "text/plain": [
       "(891, 12)"
      ]
     },
     "execution_count": 5,
     "metadata": {},
     "output_type": "execute_result"
    }
   ],
   "source": [
    "# I checked for the dimension of the dataset\n",
    "\n",
    "df.shape"
   ]
  },
  {
   "cell_type": "markdown",
   "id": "f2962753-7234-4213-b349-b635d6e18c53",
   "metadata": {},
   "source": [
    "From the above, the dataset has 891 rows and 12 columns."
   ]
  },
  {
   "cell_type": "code",
   "execution_count": 6,
   "id": "066feba0-ceaf-4490-a84e-eff1bf441738",
   "metadata": {},
   "outputs": [
    {
     "name": "stdout",
     "output_type": "stream",
     "text": [
      "<class 'pandas.core.frame.DataFrame'>\n",
      "RangeIndex: 891 entries, 0 to 890\n",
      "Data columns (total 12 columns):\n",
      " #   Column       Non-Null Count  Dtype  \n",
      "---  ------       --------------  -----  \n",
      " 0   PassengerId  891 non-null    int64  \n",
      " 1   Survived     891 non-null    int64  \n",
      " 2   Pclass       891 non-null    int64  \n",
      " 3   Name         891 non-null    object \n",
      " 4   Sex          891 non-null    object \n",
      " 5   Age          714 non-null    float64\n",
      " 6   SibSp        891 non-null    int64  \n",
      " 7   Parch        891 non-null    int64  \n",
      " 8   Ticket       891 non-null    object \n",
      " 9   Fare         891 non-null    float64\n",
      " 10  Cabin        204 non-null    object \n",
      " 11  Embarked     889 non-null    object \n",
      "dtypes: float64(2), int64(5), object(5)\n",
      "memory usage: 83.7+ KB\n"
     ]
    }
   ],
   "source": [
    "# I checked for more information about the dataset\n",
    "\n",
    "df.info()"
   ]
  },
  {
   "cell_type": "markdown",
   "id": "a75de226-1378-4064-99b5-205c9c200989",
   "metadata": {},
   "source": [
    "From the above, the column are not appropriately categorized. The next step is to appropriately categorize them."
   ]
  },
  {
   "cell_type": "markdown",
   "id": "b8ea3b6a-70dd-4e7e-98ac-d5d314e2ebaa",
   "metadata": {},
   "source": [
    "Understanding the uniqueness of each columns"
   ]
  },
  {
   "cell_type": "code",
   "execution_count": 7,
   "id": "a11300b1-b383-47b1-9ff4-0da89f139fc5",
   "metadata": {},
   "outputs": [
    {
     "data": {
      "text/plain": [
       "array([3, 1, 2], dtype=int64)"
      ]
     },
     "execution_count": 7,
     "metadata": {},
     "output_type": "execute_result"
    }
   ],
   "source": [
    "df['Pclass'].unique()"
   ]
  },
  {
   "cell_type": "markdown",
   "id": "f04a5f0b-60f2-4551-898e-bcb35348dabf",
   "metadata": {},
   "source": [
    "The above shows the ticket class (1 = 1st, 2 = 2nd, 3 = 3rd)"
   ]
  },
  {
   "cell_type": "code",
   "execution_count": 8,
   "id": "b47d72f6-f8c3-4d0f-8bc3-206c006f93ad",
   "metadata": {},
   "outputs": [
    {
     "data": {
      "text/plain": [
       "array([0, 1], dtype=int64)"
      ]
     },
     "execution_count": 8,
     "metadata": {},
     "output_type": "execute_result"
    }
   ],
   "source": [
    "df['Survived'].unique()"
   ]
  },
  {
   "cell_type": "markdown",
   "id": "78f6449b-e0da-4061-bb9d-ba3d78a5670c",
   "metadata": {},
   "source": [
    "The above shows the Survival status (0 = No, 1 = Yes)"
   ]
  },
  {
   "cell_type": "code",
   "execution_count": 9,
   "id": "69a22d3d-ace8-4eab-a530-786686878585",
   "metadata": {},
   "outputs": [
    {
     "data": {
      "text/plain": [
       "array(['male', 'female'], dtype=object)"
      ]
     },
     "execution_count": 9,
     "metadata": {},
     "output_type": "execute_result"
    }
   ],
   "source": [
    "df['Sex'].unique()"
   ]
  },
  {
   "cell_type": "markdown",
   "id": "bf21c5cb-d520-4954-97c8-8b80798e3296",
   "metadata": {},
   "source": [
    "The above shows Gender of the passenger (male or female)"
   ]
  },
  {
   "cell_type": "code",
   "execution_count": 10,
   "id": "e9fe6b4c-3a25-4922-b4e8-7674628f06a3",
   "metadata": {},
   "outputs": [
    {
     "data": {
      "text/plain": [
       "array([1, 0, 3, 4, 2, 5, 8], dtype=int64)"
      ]
     },
     "execution_count": 10,
     "metadata": {},
     "output_type": "execute_result"
    }
   ],
   "source": [
    "df['SibSp'].unique()"
   ]
  },
  {
   "cell_type": "markdown",
   "id": "257feeca-6608-40db-873b-b6a053fdbf75",
   "metadata": {},
   "source": [
    "The above represents the Number of siblings or spouses aboard the Titanic. \n",
    "\n",
    "- Alone = 0\n",
    "- With 1 relative = 1\n",
    "- With 2 relatives = 2\n",
    "- With 3 relatives = 3\n",
    "- With 4 relatives = 4\n",
    "- With 5 relatives = 5\n",
    "- With 8 relatives = 8"
   ]
  },
  {
   "cell_type": "code",
   "execution_count": 11,
   "id": "6ebf0812-52c8-4e7e-aecd-94f6e2abfc98",
   "metadata": {},
   "outputs": [
    {
     "data": {
      "text/plain": [
       "array(['S', 'C', 'Q', nan], dtype=object)"
      ]
     },
     "execution_count": 11,
     "metadata": {},
     "output_type": "execute_result"
    }
   ],
   "source": [
    "df['Embarked'].unique()"
   ]
  },
  {
   "cell_type": "markdown",
   "id": "00ea22ce-a261-436e-91c5-b177a8202d31",
   "metadata": {},
   "source": [
    "The above represents the port of embarkation:\n",
    "- C = Cherbourg (France)\n",
    "- Q = Queenstown (Ireland)\n",
    "- S = Southampton (England)"
   ]
  },
  {
   "cell_type": "code",
   "execution_count": 12,
   "id": "5f459854-b496-4550-a7d4-2d4291bb1dc4",
   "metadata": {},
   "outputs": [
    {
     "data": {
      "text/plain": [
       "array([0, 1, 2, 5, 3, 4, 6], dtype=int64)"
      ]
     },
     "execution_count": 12,
     "metadata": {},
     "output_type": "execute_result"
    }
   ],
   "source": [
    "df['Parch'].unique()"
   ]
  },
  {
   "cell_type": "markdown",
   "id": "0ebb11d7-d585-444a-afe3-6c708461699d",
   "metadata": {},
   "source": [
    "The above represents the Number of parents or children aboard the Titanic."
   ]
  },
  {
   "cell_type": "code",
   "execution_count": 13,
   "id": "607890ac-fbed-4bd0-90bb-73c9a834de72",
   "metadata": {},
   "outputs": [
    {
     "data": {
      "text/plain": [
       "array([nan, 'C85', 'C123', 'E46', 'G6', 'C103', 'D56', 'A6',\n",
       "       'C23 C25 C27', 'B78', 'D33', 'B30', 'C52', 'B28', 'C83', 'F33',\n",
       "       'F G73', 'E31', 'A5', 'D10 D12', 'D26', 'C110', 'B58 B60', 'E101',\n",
       "       'F E69', 'D47', 'B86', 'F2', 'C2', 'E33', 'B19', 'A7', 'C49', 'F4',\n",
       "       'A32', 'B4', 'B80', 'A31', 'D36', 'D15', 'C93', 'C78', 'D35',\n",
       "       'C87', 'B77', 'E67', 'B94', 'C125', 'C99', 'C118', 'D7', 'A19',\n",
       "       'B49', 'D', 'C22 C26', 'C106', 'C65', 'E36', 'C54',\n",
       "       'B57 B59 B63 B66', 'C7', 'E34', 'C32', 'B18', 'C124', 'C91', 'E40',\n",
       "       'T', 'C128', 'D37', 'B35', 'E50', 'C82', 'B96 B98', 'E10', 'E44',\n",
       "       'A34', 'C104', 'C111', 'C92', 'E38', 'D21', 'E12', 'E63', 'A14',\n",
       "       'B37', 'C30', 'D20', 'B79', 'E25', 'D46', 'B73', 'C95', 'B38',\n",
       "       'B39', 'B22', 'C86', 'C70', 'A16', 'C101', 'C68', 'A10', 'E68',\n",
       "       'B41', 'A20', 'D19', 'D50', 'D9', 'A23', 'B50', 'A26', 'D48',\n",
       "       'E58', 'C126', 'B71', 'B51 B53 B55', 'D49', 'B5', 'B20', 'F G63',\n",
       "       'C62 C64', 'E24', 'C90', 'C45', 'E8', 'B101', 'D45', 'C46', 'D30',\n",
       "       'E121', 'D11', 'E77', 'F38', 'B3', 'D6', 'B82 B84', 'D17', 'A36',\n",
       "       'B102', 'B69', 'E49', 'C47', 'D28', 'E17', 'A24', 'C50', 'B42',\n",
       "       'C148'], dtype=object)"
      ]
     },
     "execution_count": 13,
     "metadata": {},
     "output_type": "execute_result"
    }
   ],
   "source": [
    "df['Cabin'].unique()"
   ]
  },
  {
   "cell_type": "markdown",
   "id": "88f1852c-df52-4e10-8838-4633e9bed07e",
   "metadata": {},
   "source": [
    "The Cabin column contains the cabin number assigned to each passenger, with the first letter typically indicating the deck location on the ship. \n",
    "Inorder to enhance the dataset and potentially improve model performance, I performed feature engineering by extracting the first letter from each cabin entry to create a new Deck feature. \n",
    "This new feature will capture the passenger’s deck information. "
   ]
  },
  {
   "cell_type": "code",
   "execution_count": 14,
   "id": "35d2a943-96b9-4d39-9a08-0fb60f9e8d20",
   "metadata": {},
   "outputs": [],
   "source": [
    "df['Deck'] = df['Cabin'].str.extract(r'([A-Za-z])')\n",
    "\n",
    "# for Nan, I filled them with unknown\n",
    "df['Deck'] = df['Cabin'].str[0].fillna('U')"
   ]
  },
  {
   "cell_type": "code",
   "execution_count": 15,
   "id": "fec6faa1-a798-4951-956c-86a247581d29",
   "metadata": {},
   "outputs": [
    {
     "data": {
      "text/plain": [
       "array(['U', 'C', 'E', 'G', 'D', 'A', 'B', 'F', 'T'], dtype=object)"
      ]
     },
     "execution_count": 15,
     "metadata": {},
     "output_type": "execute_result"
    }
   ],
   "source": [
    "df['Deck'].unique()"
   ]
  },
  {
   "cell_type": "markdown",
   "id": "279942e6-73ba-4842-aaf7-caddac6912e7",
   "metadata": {},
   "source": [
    "After extracting the first letter from the Cabin column, I identified the following unique deck values: 'A', 'B', 'C', 'D', 'E', 'F', 'G', 'T', and 'U'. \n",
    "\n",
    "Here, each letter (A–G, T) represents a specific deck on the Titanic, while 'U' indicates passengers with missing or unassigned cabin information."
   ]
  },
  {
   "cell_type": "markdown",
   "id": "31f3a3a4-7fb9-4600-ab54-ebaf5ab93e2f",
   "metadata": {},
   "source": [
    "The Ticket column contains both letters and numbers, representing different ticket types and numbers. \n",
    "\n",
    "To capture potential patterns related to ticket numbers, I extracted the numeric part of each ticket into a new feature (Ticket_num). This allows the model to utilize any information encoded in the ticket numbers, while ignoring the non-numeric prefixes and suffixes."
   ]
  },
  {
   "cell_type": "code",
   "execution_count": 16,
   "id": "44b4f6ac-1e33-4786-89a8-b3780a386b7c",
   "metadata": {},
   "outputs": [
    {
     "data": {
      "text/plain": [
       "Index(['PassengerId', 'Survived', 'Pclass', 'Name', 'Sex', 'Age', 'SibSp',\n",
       "       'Parch', 'Ticket', 'Fare', 'Cabin', 'Embarked', 'Deck'],\n",
       "      dtype='object')"
      ]
     },
     "execution_count": 16,
     "metadata": {},
     "output_type": "execute_result"
    }
   ],
   "source": [
    "# I reconfirmed the columns\n",
    "\n",
    "df.columns"
   ]
  },
  {
   "cell_type": "markdown",
   "id": "d2d90f32-1c83-4d75-924c-194cd32d18e6",
   "metadata": {},
   "source": [
    "After reconfirming the columns, the 'Deck' column has been added."
   ]
  },
  {
   "cell_type": "code",
   "execution_count": 17,
   "id": "e5339e44-79f4-4eef-8276-fb1d0f43ebca",
   "metadata": {},
   "outputs": [
    {
     "data": {
      "text/html": [
       "<div>\n",
       "<style scoped>\n",
       "    .dataframe tbody tr th:only-of-type {\n",
       "        vertical-align: middle;\n",
       "    }\n",
       "\n",
       "    .dataframe tbody tr th {\n",
       "        vertical-align: top;\n",
       "    }\n",
       "\n",
       "    .dataframe thead th {\n",
       "        text-align: right;\n",
       "    }\n",
       "</style>\n",
       "<table border=\"1\" class=\"dataframe\">\n",
       "  <thead>\n",
       "    <tr style=\"text-align: right;\">\n",
       "      <th></th>\n",
       "      <th>PassengerId</th>\n",
       "      <th>Survived</th>\n",
       "      <th>Pclass</th>\n",
       "      <th>Name</th>\n",
       "      <th>Sex</th>\n",
       "      <th>Age</th>\n",
       "      <th>SibSp</th>\n",
       "      <th>Parch</th>\n",
       "      <th>Ticket</th>\n",
       "      <th>Fare</th>\n",
       "      <th>Cabin</th>\n",
       "      <th>Embarked</th>\n",
       "      <th>Deck</th>\n",
       "    </tr>\n",
       "  </thead>\n",
       "  <tbody>\n",
       "    <tr>\n",
       "      <th>217</th>\n",
       "      <td>218</td>\n",
       "      <td>0</td>\n",
       "      <td>2</td>\n",
       "      <td>Jacobsohn, Mr. Sidney Samuel</td>\n",
       "      <td>male</td>\n",
       "      <td>42.0</td>\n",
       "      <td>1</td>\n",
       "      <td>0</td>\n",
       "      <td>243847</td>\n",
       "      <td>27.000</td>\n",
       "      <td>NaN</td>\n",
       "      <td>S</td>\n",
       "      <td>U</td>\n",
       "    </tr>\n",
       "    <tr>\n",
       "      <th>468</th>\n",
       "      <td>469</td>\n",
       "      <td>0</td>\n",
       "      <td>3</td>\n",
       "      <td>Scanlan, Mr. James</td>\n",
       "      <td>male</td>\n",
       "      <td>NaN</td>\n",
       "      <td>0</td>\n",
       "      <td>0</td>\n",
       "      <td>36209</td>\n",
       "      <td>7.725</td>\n",
       "      <td>NaN</td>\n",
       "      <td>Q</td>\n",
       "      <td>U</td>\n",
       "    </tr>\n",
       "    <tr>\n",
       "      <th>772</th>\n",
       "      <td>773</td>\n",
       "      <td>0</td>\n",
       "      <td>2</td>\n",
       "      <td>Mack, Mrs. (Mary)</td>\n",
       "      <td>female</td>\n",
       "      <td>57.0</td>\n",
       "      <td>0</td>\n",
       "      <td>0</td>\n",
       "      <td>S.O./P.P. 3</td>\n",
       "      <td>10.500</td>\n",
       "      <td>E77</td>\n",
       "      <td>S</td>\n",
       "      <td>E</td>\n",
       "    </tr>\n",
       "    <tr>\n",
       "      <th>733</th>\n",
       "      <td>734</td>\n",
       "      <td>0</td>\n",
       "      <td>2</td>\n",
       "      <td>Berriman, Mr. William John</td>\n",
       "      <td>male</td>\n",
       "      <td>23.0</td>\n",
       "      <td>0</td>\n",
       "      <td>0</td>\n",
       "      <td>28425</td>\n",
       "      <td>13.000</td>\n",
       "      <td>NaN</td>\n",
       "      <td>S</td>\n",
       "      <td>U</td>\n",
       "    </tr>\n",
       "    <tr>\n",
       "      <th>191</th>\n",
       "      <td>192</td>\n",
       "      <td>0</td>\n",
       "      <td>2</td>\n",
       "      <td>Carbines, Mr. William</td>\n",
       "      <td>male</td>\n",
       "      <td>19.0</td>\n",
       "      <td>0</td>\n",
       "      <td>0</td>\n",
       "      <td>28424</td>\n",
       "      <td>13.000</td>\n",
       "      <td>NaN</td>\n",
       "      <td>S</td>\n",
       "      <td>U</td>\n",
       "    </tr>\n",
       "  </tbody>\n",
       "</table>\n",
       "</div>"
      ],
      "text/plain": [
       "     PassengerId  Survived  Pclass                          Name     Sex  \\\n",
       "217          218         0       2  Jacobsohn, Mr. Sidney Samuel    male   \n",
       "468          469         0       3            Scanlan, Mr. James    male   \n",
       "772          773         0       2             Mack, Mrs. (Mary)  female   \n",
       "733          734         0       2    Berriman, Mr. William John    male   \n",
       "191          192         0       2         Carbines, Mr. William    male   \n",
       "\n",
       "      Age  SibSp  Parch       Ticket    Fare Cabin Embarked Deck  \n",
       "217  42.0      1      0       243847  27.000   NaN        S    U  \n",
       "468   NaN      0      0        36209   7.725   NaN        Q    U  \n",
       "772  57.0      0      0  S.O./P.P. 3  10.500   E77        S    E  \n",
       "733  23.0      0      0        28425  13.000   NaN        S    U  \n",
       "191  19.0      0      0        28424  13.000   NaN        S    U  "
      ]
     },
     "execution_count": 17,
     "metadata": {},
     "output_type": "execute_result"
    }
   ],
   "source": [
    "df.sample(5)"
   ]
  },
  {
   "cell_type": "code",
   "execution_count": 18,
   "id": "63535a43-c24c-4d62-8165-31a2035c250d",
   "metadata": {},
   "outputs": [
    {
     "data": {
      "text/plain": [
       "0"
      ]
     },
     "execution_count": 18,
     "metadata": {},
     "output_type": "execute_result"
    }
   ],
   "source": [
    "# I checked for duplicates\n",
    "\n",
    "df.duplicated().sum()"
   ]
  },
  {
   "cell_type": "markdown",
   "id": "e6ae1f6d-46a3-4c8f-95e5-08202cc23ac5",
   "metadata": {},
   "source": [
    "From, the above, there are no duplicates. "
   ]
  },
  {
   "cell_type": "code",
   "execution_count": 19,
   "id": "8c65180d-a436-4fd6-99d9-9d01da1ab754",
   "metadata": {},
   "outputs": [
    {
     "data": {
      "text/plain": [
       "Cabin          687\n",
       "Age            177\n",
       "Embarked         2\n",
       "PassengerId      0\n",
       "Survived         0\n",
       "Pclass           0\n",
       "Name             0\n",
       "Sex              0\n",
       "SibSp            0\n",
       "Parch            0\n",
       "Ticket           0\n",
       "Fare             0\n",
       "Deck             0\n",
       "dtype: int64"
      ]
     },
     "execution_count": 19,
     "metadata": {},
     "output_type": "execute_result"
    }
   ],
   "source": [
    "# I checked for missing values\n",
    "\n",
    "df.isna().sum().sort_values(ascending = False)"
   ]
  },
  {
   "cell_type": "code",
   "execution_count": 20,
   "id": "9eabd8ad-ca65-4ada-a735-f65913d99304",
   "metadata": {},
   "outputs": [
    {
     "data": {
      "text/plain": [
       "Cabin          77.104377\n",
       "Age            19.865320\n",
       "Embarked        0.224467\n",
       "PassengerId     0.000000\n",
       "Survived        0.000000\n",
       "Pclass          0.000000\n",
       "Name            0.000000\n",
       "Sex             0.000000\n",
       "SibSp           0.000000\n",
       "Parch           0.000000\n",
       "Ticket          0.000000\n",
       "Fare            0.000000\n",
       "Deck            0.000000\n",
       "dtype: float64"
      ]
     },
     "execution_count": 20,
     "metadata": {},
     "output_type": "execute_result"
    }
   ],
   "source": [
    "# I checked for the percentage of missing values\n",
    "\n",
    "df.isna().sum().sort_values(ascending = False) / len (df) * 100"
   ]
  },
  {
   "cell_type": "markdown",
   "id": "6a870d12-d590-44cb-bb48-cdc35b66161f",
   "metadata": {},
   "source": [
    "Based on the data exploration:\n",
    "\n",
    "- The Cabin column has approximately 77% missing values.\n",
    "- The Age column has about 19.86% missing values.\n",
    "- The Embarked column has 0.2% missing values.\n",
    "\n",
    "As part of feature engineering, I extracted the first letter from the Cabin column to create a new Deck feature. Any missing values in Deck were replaced with 'U' (Unknown) to indicate unassigned or missing deck information.\n",
    "\n",
    "Moving forward, I will focus on handling missing values in the dataset. Since the relevant information from Cabin has been captured in the Deck column, I will drop the original Cabin column and proceed with imputing missing values in the remaining features."
   ]
  },
  {
   "cell_type": "markdown",
   "id": "1e6cb497-a0c1-4d70-a25b-65459e0e0ccb",
   "metadata": {},
   "source": [
    "## Filling Missing Values"
   ]
  },
  {
   "cell_type": "code",
   "execution_count": 21,
   "id": "b20a21d7-985a-4c2c-b662-5ed6d737b4e0",
   "metadata": {},
   "outputs": [],
   "source": [
    "df['Age'] = df['Age'].fillna(df['Age'].median())\n",
    "df['Embarked'] = df['Embarked'].fillna(df['Embarked'].mode()[0])"
   ]
  },
  {
   "cell_type": "markdown",
   "id": "406cb24b-0ca1-4908-847f-37bb36754ec7",
   "metadata": {},
   "source": [
    "I filled 'Age' with median because the median age minimizes the effect of outliers and preserve the distribution of the data while for the 'Embarked', I filled with mode because it is a standard approach for categorical variables with few missing values."
   ]
  },
  {
   "cell_type": "markdown",
   "id": "40aae7a0-5b9d-49aa-aea3-ba6b85c3b431",
   "metadata": {},
   "source": [
    "# Dropping Columns"
   ]
  },
  {
   "cell_type": "code",
   "execution_count": 22,
   "id": "f89921f1-73b2-4087-b3cb-6d771efebf66",
   "metadata": {},
   "outputs": [],
   "source": [
    "df.drop('Cabin', axis=1, inplace=True)\n",
    "df.drop('PassengerId', axis = 1, inplace = True)\n",
    "df.drop('Ticket', axis = 1, inplace = True)"
   ]
  },
  {
   "cell_type": "markdown",
   "id": "689dd28b-4f81-47d5-beef-ea33bd84843f",
   "metadata": {},
   "source": [
    "- The Cabin column was removed because it contained a high percentage of missing values, and its relevant information was already captured in the engineered Deck feature. \n",
    "- The PassengerId column was dropped as it serves only as a unique identifier and does not provide any predictive value for the modelling process.\n",
    "- I performed feature engineering on Ticket to extract the numeric part as Ticket_num, so the original Ticket column was dropped.\n",
    "- The Ticket column contains many unique values, which can be challenging for modelling."
   ]
  },
  {
   "cell_type": "code",
   "execution_count": 23,
   "id": "d35e7045-1946-4380-9d54-bec9d994fade",
   "metadata": {},
   "outputs": [
    {
     "data": {
      "text/plain": [
       "Index(['Survived', 'Pclass', 'Name', 'Sex', 'Age', 'SibSp', 'Parch', 'Fare',\n",
       "       'Embarked', 'Deck'],\n",
       "      dtype='object')"
      ]
     },
     "execution_count": 23,
     "metadata": {},
     "output_type": "execute_result"
    }
   ],
   "source": [
    "# I rechecked the columns\n",
    "\n",
    "df.columns"
   ]
  },
  {
   "cell_type": "markdown",
   "id": "97cdaefb-cc81-4f62-a058-50ea5b3af168",
   "metadata": {},
   "source": [
    "## Reassigning Categorical And Numerical Columns\n",
    "\n",
    "I appropriately reassigned the numerical and categorical columns in the dataset to ensure that each feature is treated according to its data type. \n",
    "\n",
    "This step is important for proper preprocessing, encoding, and modeling, as it allows for the correct application of techniques such as scaling for numerical features and encoding for categorical features."
   ]
  },
  {
   "cell_type": "code",
   "execution_count": 24,
   "id": "1358bf7b-b1e4-446b-a5be-f51f3ef8107a",
   "metadata": {},
   "outputs": [
    {
     "data": {
      "text/plain": [
       "Index(['Survived', 'Pclass', 'Name', 'Sex', 'Age', 'SibSp', 'Parch', 'Fare',\n",
       "       'Embarked', 'Deck'],\n",
       "      dtype='object')"
      ]
     },
     "execution_count": 24,
     "metadata": {},
     "output_type": "execute_result"
    }
   ],
   "source": [
    "df.columns"
   ]
  },
  {
   "cell_type": "code",
   "execution_count": 25,
   "id": "d59e126b-861e-4e78-9914-d027ad65e2c8",
   "metadata": {},
   "outputs": [],
   "source": [
    "# I converted the columns I wanted to reassign to a list and looped through it to reassign\n",
    "\n",
    "reassigned_cols = ['Survived','Pclass', 'Sex', 'SibSp', 'Deck']\n",
    "\n",
    "for col in reassigned_cols:\n",
    "    df[col] = df[col].astype('category')"
   ]
  },
  {
   "cell_type": "code",
   "execution_count": 26,
   "id": "1a2f9235-c1f0-4cc3-bbde-14e0f98d925b",
   "metadata": {},
   "outputs": [
    {
     "name": "stdout",
     "output_type": "stream",
     "text": [
      "<class 'pandas.core.frame.DataFrame'>\n",
      "RangeIndex: 891 entries, 0 to 890\n",
      "Data columns (total 10 columns):\n",
      " #   Column    Non-Null Count  Dtype   \n",
      "---  ------    --------------  -----   \n",
      " 0   Survived  891 non-null    category\n",
      " 1   Pclass    891 non-null    category\n",
      " 2   Name      891 non-null    object  \n",
      " 3   Sex       891 non-null    category\n",
      " 4   Age       891 non-null    float64 \n",
      " 5   SibSp     891 non-null    category\n",
      " 6   Parch     891 non-null    int64   \n",
      " 7   Fare      891 non-null    float64 \n",
      " 8   Embarked  891 non-null    object  \n",
      " 9   Deck      891 non-null    category\n",
      "dtypes: category(5), float64(2), int64(1), object(2)\n",
      "memory usage: 40.4+ KB\n"
     ]
    }
   ],
   "source": [
    "# I rechecked the dataset\n",
    "\n",
    "df.info()"
   ]
  },
  {
   "cell_type": "code",
   "execution_count": 27,
   "id": "4584a3be-e4b7-4fae-9bdf-feb4c742bf18",
   "metadata": {},
   "outputs": [],
   "source": [
    "num_cols = df.select_dtypes(include=['int64', 'float64']).columns.tolist()\n",
    "cat_cols = df.select_dtypes(include=['category', 'object']).columns.tolist()"
   ]
  },
  {
   "cell_type": "code",
   "execution_count": 28,
   "id": "5b93595e-f8a2-4cad-9aa7-dda39cf54a83",
   "metadata": {},
   "outputs": [
    {
     "data": {
      "text/plain": [
       "['Age', 'Parch', 'Fare']"
      ]
     },
     "execution_count": 28,
     "metadata": {},
     "output_type": "execute_result"
    }
   ],
   "source": [
    "num_cols"
   ]
  },
  {
   "cell_type": "code",
   "execution_count": 29,
   "id": "d29254ba-9464-41a0-bc73-dffff6ec0ed0",
   "metadata": {},
   "outputs": [
    {
     "data": {
      "text/plain": [
       "['Survived', 'Pclass', 'Name', 'Sex', 'SibSp', 'Embarked', 'Deck']"
      ]
     },
     "execution_count": 29,
     "metadata": {},
     "output_type": "execute_result"
    }
   ],
   "source": [
    "cat_cols"
   ]
  },
  {
   "cell_type": "markdown",
   "id": "5019ccfd-0e5a-460f-acc3-41408c4bf2e3",
   "metadata": {},
   "source": [
    "After reassigning the appropriate columns as categorical or numerical, the dataset is properly structured for analysis. I can now move forward to building and evaluating predictive models."
   ]
  },
  {
   "cell_type": "markdown",
   "id": "e1bf28f4-3d80-49e9-a7bb-52c01207ab4d",
   "metadata": {},
   "source": [
    "## Feature Selection"
   ]
  },
  {
   "cell_type": "code",
   "execution_count": 30,
   "id": "8fe5ebea-7252-4b65-bc7c-f948105039f9",
   "metadata": {},
   "outputs": [
    {
     "data": {
      "text/plain": [
       "<Axes: xlabel='Survived'>"
      ]
     },
     "execution_count": 30,
     "metadata": {},
     "output_type": "execute_result"
    },
    {
     "data": {
      "image/png": "[encoded data removed]",
      "text/plain": [
       "<Figure size 640x480 with 1 Axes>"
      ]
     },
     "metadata": {},
     "output_type": "display_data"
    }
   ],
   "source": [
    "df['Survived'].value_counts().plot(kind='bar')"
   ]
  },
  {
   "cell_type": "markdown",
   "id": "42831c54-51cc-4f06-ba7b-26d696439218",
   "metadata": {},
   "source": [
    "The bar chart above shows that the target variable (Survived) is imbalanced, with more passengers not surviving than surviving. \n",
    "\n",
    "To ensure that this class imbalance is maintained in both the training and test sets, I used the stratify=y parameter when splitting the data. \n",
    "\n",
    "This approach preserves the original proportion of each class in both subsets, which is important for building and evaluating classification models fairly."
   ]
  },
  {
   "cell_type": "code",
   "execution_count": 31,
   "id": "9a0af13c-bdd8-4193-aab5-191cef0a2c41",
   "metadata": {},
   "outputs": [],
   "source": [
    "# I imported the necessary library\n",
    "\n",
    "from sklearn.model_selection import train_test_split"
   ]
  },
  {
   "cell_type": "code",
   "execution_count": 32,
   "id": "b8d1e4c4-09d7-4c8b-97e9-4124428ce3e8",
   "metadata": {},
   "outputs": [],
   "source": [
    "X = df.drop(columns = ['Survived'])\n",
    "y = df['Survived']"
   ]
  },
  {
   "cell_type": "code",
   "execution_count": 33,
   "id": "fd4ab673-2d83-4a57-8706-06c9eaec5a55",
   "metadata": {},
   "outputs": [],
   "source": [
    "X_train, X_test, y_train, y_test = train_test_split (X, y, test_size = 0.2, random_state = 42, stratify = y)"
   ]
  },
  {
   "cell_type": "code",
   "execution_count": 34,
   "id": "7d144570-e96c-4e38-ba94-2dd1cf463bd0",
   "metadata": {},
   "outputs": [
    {
     "data": {
      "text/plain": [
       "Index(['Pclass', 'Name', 'Sex', 'Age', 'SibSp', 'Parch', 'Fare', 'Embarked',\n",
       "       'Deck'],\n",
       "      dtype='object')"
      ]
     },
     "execution_count": 34,
     "metadata": {},
     "output_type": "execute_result"
    }
   ],
   "source": [
    "X_train.columns"
   ]
  },
  {
   "cell_type": "markdown",
   "id": "94b076e5-4f9f-4c79-9714-4d0fb2cbca56",
   "metadata": {},
   "source": [
    "## Data Preprocessing\n",
    "\n",
    "I scaled the numerical features to ensure they are on a similar range, which helps improve model performance. \n",
    "\n",
    "I also encoded the categorical features into a numerical format so they can be used effectively by machine learning algorithms.\n",
    "\n"
   ]
  },
  {
   "cell_type": "code",
   "execution_count": 35,
   "id": "d464a6f7-7930-47db-ba84-e93a189c54b8",
   "metadata": {},
   "outputs": [],
   "source": [
    "# I imported necessary library\n",
    "\n",
    "from sklearn.preprocessing import StandardScaler, OneHotEncoder"
   ]
  },
  {
   "cell_type": "code",
   "execution_count": 36,
   "id": "208ed3d3-5eb6-421b-90b3-c2c3d5f2081b",
   "metadata": {},
   "outputs": [],
   "source": [
    "scaler = StandardScaler()"
   ]
  },
  {
   "cell_type": "code",
   "execution_count": 37,
   "id": "7c79cf39-5f8b-41df-b19d-28d47ee6bdfa",
   "metadata": {},
   "outputs": [],
   "source": [
    "X_train[num_cols] = scaler.fit_transform(X_train[num_cols])\n",
    "X_test[num_cols] = scaler.transform(X_test[num_cols])"
   ]
  },
  {
   "cell_type": "code",
   "execution_count": 38,
   "id": "b4abdd96-6ad7-4f16-b0f0-567348732787",
   "metadata": {},
   "outputs": [],
   "source": [
    "encoder = OneHotEncoder()"
   ]
  },
  {
   "cell_type": "code",
   "execution_count": 39,
   "id": "d3c7e93b-8e65-4379-9ef0-5b5da57d59da",
   "metadata": {},
   "outputs": [],
   "source": [
    "cat_cols = ['Pclass', 'Sex', 'SibSp', 'Embarked', 'Deck']"
   ]
  },
  {
   "cell_type": "code",
   "execution_count": 40,
   "id": "8b7ce274-d02d-46cd-bc36-02edbaef4fb0",
   "metadata": {},
   "outputs": [
    {
     "data": {
      "text/plain": [
       "['Pclass', 'Sex', 'SibSp', 'Embarked', 'Deck']"
      ]
     },
     "execution_count": 40,
     "metadata": {},
     "output_type": "execute_result"
    }
   ],
   "source": [
    "cat_cols"
   ]
  },
  {
   "cell_type": "markdown",
   "id": "4aa1d1a4-2c54-4823-9a0e-6eec0952689e",
   "metadata": {},
   "source": [
    "I updated the list of categorical columns to exclude both the target column (Survived) and the Name column. \n",
    "\n",
    "The Name column is not included in encoding or modeling because it is a unique identifier and does not provide predictive value. Only relevant categorical features are retained for encoding"
   ]
  },
  {
   "cell_type": "code",
   "execution_count": 41,
   "id": "609b179b-dc52-4025-9154-9553d4db204a",
   "metadata": {},
   "outputs": [],
   "source": [
    "train_cat = encoder.fit_transform(X_train[cat_cols])\n",
    "test_cat = encoder.transform(X_test[cat_cols])"
   ]
  },
  {
   "cell_type": "code",
   "execution_count": 42,
   "id": "b104b5a1-4375-4256-936d-e87fb5cd6d1e",
   "metadata": {},
   "outputs": [],
   "source": [
    "train_cat = train_cat.toarray()\n",
    "test_cat = test_cat.toarray()"
   ]
  },
  {
   "cell_type": "markdown",
   "id": "fad571ad-2d67-4a0a-a2e4-0d1f33b7b48e",
   "metadata": {},
   "source": [
    "I converted the encoded categorical features from sparse matrices to dense arrays using .toarray(). \n",
    "\n",
    "This step is necessary because some machine learning algorithms and further processing steps require input data in a dense format."
   ]
  },
  {
   "cell_type": "code",
   "execution_count": 43,
   "id": "4499a60f-df29-4e78-80c9-3ecadd4c79fc",
   "metadata": {},
   "outputs": [],
   "source": [
    "## Combining the numerical and categorical columns\n",
    "\n",
    "train_processed = np.hstack((X_train[num_cols], train_cat))\n",
    "test_processed = np.hstack((X_test[num_cols], test_cat))"
   ]
  },
  {
   "cell_type": "markdown",
   "id": "08237175-b9c8-4881-b4b6-138ba4ff09c9",
   "metadata": {},
   "source": [
    "I combined the scaled numerical features and the encoded categorical features to create the final training and test datasets. \n",
    "\n",
    "This ensures that all relevant features are included and properly formatted for model training and evaluation."
   ]
  },
  {
   "cell_type": "markdown",
   "id": "25c70c17-cc5c-46a1-84aa-ca22fc8570e2",
   "metadata": {},
   "source": [
    "## Model Training\n",
    "\n",
    "I trained and evaluated multiple classification models including Logistic Regression, Decision Tree, Random Forest, and Gradient Boosting. \n",
    "\n",
    "Each model was compared using accuracy, precision, and recall metrics, it helped to determine which model performs best on the Titanic dataset for predicting passenger survival."
   ]
  },
  {
   "cell_type": "code",
   "execution_count": 44,
   "id": "883a7856-d6eb-4a09-a14c-1e6c383fbc8d",
   "metadata": {},
   "outputs": [],
   "source": [
    "# I imported the necessary libraries\n",
    "\n",
    "from sklearn.linear_model import LogisticRegression\n",
    "from sklearn.tree import DecisionTreeClassifier\n",
    "from sklearn.ensemble import RandomForestClassifier, GradientBoostingClassifier\n",
    "from sklearn.metrics import accuracy_score, precision_score, recall_score, confusion_matrix, ConfusionMatrixDisplay"
   ]
  },
  {
   "cell_type": "code",
   "execution_count": 45,
   "id": "b5ca19af-bd61-4c89-b777-d3d110a1525e",
   "metadata": {},
   "outputs": [],
   "source": [
    "models = {\n",
    "    'Logistic Regression': LogisticRegression(max_iter=1000),\n",
    "    'Decision Tree': DecisionTreeClassifier(random_state=42),\n",
    "    'Random Forest': RandomForestClassifier(random_state=42),\n",
    "    'Gradient Boosting': GradientBoostingClassifier(random_state=42)\n",
    "}"
   ]
  },
  {
   "cell_type": "code",
   "execution_count": 46,
   "id": "645b207c-0b99-4072-ac20-def753a0c782",
   "metadata": {},
   "outputs": [
    {
     "data": {
      "image/png": "[encoded data removed]",
      "text/plain": [
       "<Figure size 1800x400 with 8 Axes>"
      ]
     },
     "metadata": {},
     "output_type": "display_data"
    },
    {
     "name": "stdout",
     "output_type": "stream",
     "text": [
      "\n",
      "Classification Metrics\n",
      "                 Logistic Regression  Decision Tree  Random Forest  \\\n",
      "Train Accuracy                 0.827          0.983          0.983   \n",
      "Test Accuracy                  0.810          0.749          0.821   \n",
      "Precision Score                0.681          0.652          0.725   \n",
      "Recall Score                   0.797          0.682          0.794   \n",
      "\n",
      "                 Gradient Boosting  \n",
      "Train Accuracy               0.906  \n",
      "Test Accuracy                0.782  \n",
      "Precision Score              0.638  \n",
      "Recall Score                 0.759  \n"
     ]
    }
   ],
   "source": [
    "results = {}\n",
    "fig, axes = plt.subplots( 1, 4 , figsize = (18,4))\n",
    "\n",
    "for (name, model), ax in zip(models.items(), axes.flatten()): \n",
    "    \n",
    "    # I trained the model\n",
    "    model.fit(train_processed, y_train)\n",
    "\n",
    "     # predict train and test \n",
    "    train_pred = model.predict(train_processed)\n",
    "    test_pred = model.predict(test_processed)\n",
    "\n",
    "    # evaluate the prediction\n",
    "    train_score = accuracy_score (train_pred, y_train)\n",
    "    test_score = accuracy_score (test_pred, y_test)\n",
    "    precision = precision_score (test_pred, y_test)\n",
    "    recall = recall_score(test_pred, y_test)\n",
    "\n",
    "    # I stored my results in a dataframe\n",
    "    results[name] = {\n",
    "        \"Train Accuracy\": train_score,\n",
    "        \"Test Accuracy\": test_score,\n",
    "        \"Precision Score\": precision,\n",
    "        \"Recall Score\": recall\n",
    "    }\n",
    "\n",
    "    # I plotted a confusion matrix\n",
    "    cm = confusion_matrix(test_pred, y_test)\n",
    "    disp = ConfusionMatrixDisplay(cm)\n",
    "    disp.plot(ax = ax, cmap ='Blues')\n",
    "    ax.set_title(name)\n",
    "\n",
    "plt.tight_layout()\n",
    "plt.show()\n",
    "\n",
    "# print metrics\n",
    "print('\\nClassification Metrics')\n",
    "metrics_df = pd.DataFrame(results)\n",
    "print(metrics_df.round(3))"
   ]
  },
  {
   "cell_type": "markdown",
   "id": "11331ebf-b0a3-4e48-bcca-757c9aa09bc7",
   "metadata": {},
   "source": [
    "From the above:\n",
    "- Logistic Regression performed consistently with a good balance between test accuracy (0.81) and recall (0.797), making it a solid baseline.\n",
    "- Decision Tree achieved high training accuracy (0.983) but a lower test accuracy (0.749), indicating possible overfitting.\n",
    "- Random Forest showed strong overall performance, with high test accuracy (0.821) and strong recall (0.794), making it one of the best models.\n",
    "- Gradient Boosting had slightly lower test metrics than Random Forest but showed less overfitting than Decision Tree. Precision was a bit lower (0.638), which could be due to class imbalance.\n",
    "\n",
    "\n",
    "I also visualized the confusion matrix for each model to better understand the specific prediction patterns. \n",
    "- the Random Forest achieved the best balance of true positives and true negatives, with minimal false predictions.\n",
    "- the Logistic Regression model also performed well, with a strong recall score, meaning it correctly identified most survivors. \n",
    "- the Decision Tree showed signs of overfitting, with perfect training accuracy but lower performance on unseen data.\n",
    "- finally, Gradient Boosting provided competitive results with a moderate trade-off between precision and recall."
   ]
  },
  {
   "cell_type": "markdown",
   "id": "f39198a2-795b-49b1-80b0-dd442a53696c",
   "metadata": {
    "scrolled": true
   },
   "source": [
    "## COMMENTS\n",
    "\n",
    "I initially trained the model without transformations or class balancing. However, to improve results:\n",
    "\n",
    "- I checked for skewness in numerical features and apply log transformation where necessary to reduce distortion and improve input quality.\n",
    "- I also used class_weight='balanced' to address the class imbalance in the target variable and help the model treat both classes more fairly.\n",
    "\n",
    "Combining these strategies might lead to a more accurate and generalizable model."
   ]
  },
  {
   "cell_type": "markdown",
   "id": "eb454a5a-7632-4608-b025-b25bbe2580f0",
   "metadata": {
    "jp-MarkdownHeadingCollapsed": true
   },
   "source": [
    "## DATA VISUALIZATION\n",
    "\n",
    "1.  Visualizing the Numerical Columns\n",
    "  \n",
    "Before applying any skewness correction or transformations, I visualized the distribution of key numerical features using histograms with KDE (Kernel Density Estimation) curves. This helped me observe the shape of each distribution and identify features that are heavily skewed or have outliers. "
   ]
  },
  {
   "cell_type": "code",
   "execution_count": 47,
   "id": "e51ca40c-bb0e-4d5e-b099-b5c9c5c0e332",
   "metadata": {},
   "outputs": [
    {
     "data": {
      "text/plain": [
       "['Age', 'Parch', 'Fare']"
      ]
     },
     "execution_count": 47,
     "metadata": {},
     "output_type": "execute_result"
    }
   ],
   "source": [
    "# I defined the numerical columns\n",
    "\n",
    "num_cols"
   ]
  },
  {
   "cell_type": "code",
   "execution_count": 48,
   "id": "85823ba4-dc00-4274-8900-d2d88e91cc87",
   "metadata": {},
   "outputs": [
    {
     "data": {
      "image/png": "[encoded data removed]",
      "text/plain": [
       "<Figure size 1800x400 with 3 Axes>"
      ]
     },
     "metadata": {},
     "output_type": "display_data"
    },
    {
     "data": {
      "image/png": "[encoded data removed]",
      "text/plain": [
       "<Figure size 1800x400 with 3 Axes>"
      ]
     },
     "metadata": {},
     "output_type": "display_data"
    },
    {
     "data": {
      "image/png": "[encoded data removed]",
      "text/plain": [
       "<Figure size 1800x400 with 3 Axes>"
      ]
     },
     "metadata": {},
     "output_type": "display_data"
    }
   ],
   "source": [
    "# I looped through the list to visualize\n",
    "\n",
    "for col in num_cols:\n",
    "    fig, axes = plt.subplots(1, 3, figsize=(18, 4))\n",
    "\n",
    "    # for histogram\n",
    "    sns.histplot(df[col], kde=True, bins=20, color='green', ax=axes[0])\n",
    "    axes[0].set_title(f'{col} Distribution')\n",
    "    axes[0].set_xlabel(col)\n",
    "    axes[0].set_ylabel('Count')\n",
    "\n",
    "    # for boxplot\n",
    "    sns.boxplot(x=df[col], color='red', ax=axes[1])\n",
    "    axes[1].set_title(f'{col} Boxplot')\n",
    "    axes[1].set_xlabel(col)\n",
    "\n",
    "    # for violinplot\n",
    "    sns.violinplot(x=df[col], color = 'navy', ax=axes[2])\n",
    "    axes[2].set_title(f'{col} Violin Plot')\n",
    "    axes[2].set_xlabel(col)\n",
    "\n",
    "plt.tight_layout()\n",
    "plt.show()"
   ]
  },
  {
   "cell_type": "markdown",
   "id": "d708cf8b-ccb4-40ca-8bef-9d22517ad856",
   "metadata": {},
   "source": [
    "I visualized the distributions of the numerical features ('Age', 'Parch', and 'Fare') using histograms, boxplots, and violin plots to understand their shape, spread, and skewness.\n",
    "\n",
    "- Age is slightly right-skewed, centered around 20–30 years. Most passengers were young adults with a few elderly outliers. The distribution is mostly normal, requiring little to no transformation.\n",
    "\n",
    "- Parch (number of parents/children on board) is extremely right-skewed. The majority of values are zero, indicating most passengers traveled without close family. This may be better treated as a categorical or binary feature rather than a continuous one.\n",
    "\n",
    "- Fare is heavily right-skewed with large outliers. Most passengers paid low fares, but a small group paid significantly higher amounts. A log transformation is ideal to reduce skew and normalize this feature."
   ]
  },
  {
   "cell_type": "markdown",
   "id": "b7c6ed33-cbd2-4ed2-9503-21ca81806a80",
   "metadata": {},
   "source": [
    "## Treating 'Parch' as Categorical\n",
    "\n",
    "Given that 'Parch' is a discrete variable with limited unique values and a heavily imbalanced distribution, I decided to convert it into a categorical feature. "
   ]
  },
  {
   "cell_type": "code",
   "execution_count": 49,
   "id": "4873134d-944c-4c63-bd60-639c465bc670",
   "metadata": {},
   "outputs": [
    {
     "data": {
      "text/plain": [
       "array([0, 1, 2, 5, 3, 4, 6], dtype=int64)"
      ]
     },
     "execution_count": 49,
     "metadata": {},
     "output_type": "execute_result"
    }
   ],
   "source": [
    "# I checked for the uniqueness of Parch\n",
    "\n",
    "df['Parch'].unique()"
   ]
  },
  {
   "cell_type": "code",
   "execution_count": 50,
   "id": "9937b059-8944-48fa-9e24-3d2f57e2bc2b",
   "metadata": {},
   "outputs": [],
   "source": [
    "# I converted Parch to a categorical column\n",
    "\n",
    "df['Parch'] = df['Parch'].astype('category')"
   ]
  },
  {
   "cell_type": "code",
   "execution_count": 51,
   "id": "3ea755f3-b1cf-4ca4-bbf5-94a88d0417aa",
   "metadata": {},
   "outputs": [
    {
     "name": "stdout",
     "output_type": "stream",
     "text": [
      "<class 'pandas.core.frame.DataFrame'>\n",
      "RangeIndex: 891 entries, 0 to 890\n",
      "Data columns (total 10 columns):\n",
      " #   Column    Non-Null Count  Dtype   \n",
      "---  ------    --------------  -----   \n",
      " 0   Survived  891 non-null    category\n",
      " 1   Pclass    891 non-null    category\n",
      " 2   Name      891 non-null    object  \n",
      " 3   Sex       891 non-null    category\n",
      " 4   Age       891 non-null    float64 \n",
      " 5   SibSp     891 non-null    category\n",
      " 6   Parch     891 non-null    category\n",
      " 7   Fare      891 non-null    float64 \n",
      " 8   Embarked  891 non-null    object  \n",
      " 9   Deck      891 non-null    category\n",
      "dtypes: category(6), float64(2), object(2)\n",
      "memory usage: 34.6+ KB\n"
     ]
    }
   ],
   "source": [
    "# I reconfirmed the category\n",
    "\n",
    "df.info()"
   ]
  },
  {
   "cell_type": "markdown",
   "id": "27fbe619-d09a-4974-a7a8-8d519f985b42",
   "metadata": {},
   "source": [
    "## Skewness\n",
    "\n",
    "I checked the skewness of the numerical columns to analyze the shape of their distributions. Skewness helps identify features that are not normally distributed, which can affect model performance. \n",
    "\n",
    "For highly skewed features, I applied the log transformation to reduce skewness and improve the model’s ability to learn from the data."
   ]
  },
  {
   "cell_type": "code",
   "execution_count": 52,
   "id": "fe940976-549c-446e-ac5d-841102089251",
   "metadata": {},
   "outputs": [],
   "source": [
    "num_cols = ['Age', 'Fare']"
   ]
  },
  {
   "cell_type": "code",
   "execution_count": 53,
   "id": "222e13ae-5e9b-4d7c-b5dc-9d6bcb6f9a8f",
   "metadata": {},
   "outputs": [
    {
     "data": {
      "text/plain": [
       "Fare    4.787317\n",
       "Age     0.510245\n",
       "dtype: float64"
      ]
     },
     "execution_count": 53,
     "metadata": {},
     "output_type": "execute_result"
    }
   ],
   "source": [
    "skewness = df[num_cols].skew().sort_values(ascending=False)\n",
    "skewness"
   ]
  },
  {
   "cell_type": "markdown",
   "id": "3d793a03-4c1c-409a-be4e-ebad5d71a79d",
   "metadata": {},
   "source": [
    "From the skewness calculation, \n",
    "\n",
    "- 'Fare' has a very high skewness (4.79), indicating that the distribution is extremely right-skewed. This further means that most passengers paid relatively low fares, but a few paid significantly higher amounts.\n",
    "- 'Age' has a moderate skew (0.51); although it’s slightly skewed to the right, it doesn’t require transformation.\n",
    "\n",
    "Therefore, I proceeded to log_transformation of the 'Fare' column"
   ]
  },
  {
   "cell_type": "code",
   "execution_count": 54,
   "id": "336672d9-4b73-4de1-8da8-4ecec27858c8",
   "metadata": {},
   "outputs": [],
   "source": [
    "# I applied log transformation on 'Fare' (use log1p to handle zero values safely)\n",
    "\n",
    "df['Fare_log'] = np.log1p(df['Fare'])"
   ]
  },
  {
   "cell_type": "code",
   "execution_count": 55,
   "id": "cfdd4b3b-8a7b-4fdf-869c-b16190e991fc",
   "metadata": {},
   "outputs": [
    {
     "data": {
      "image/png": "[encoded data removed]",
      "text/plain": [
       "<Figure size 1800x400 with 3 Axes>"
      ]
     },
     "metadata": {},
     "output_type": "display_data"
    }
   ],
   "source": [
    "# I visualised the transformed column\n",
    "\n",
    "col = ['Fare_log']\n",
    "\n",
    "fig, axes = plt.subplots(1, 3, figsize=(18, 4))\n",
    "\n",
    "for c in col:\n",
    "\n",
    "    # for histogram\n",
    "    sns.histplot(df[c], kde=True, bins=20, color='green', ax=axes[0])\n",
    "    axes[0].set_title(f'{c} Distribution')\n",
    "    axes[0].set_xlabel(c)\n",
    "    axes[0].set_ylabel('Count')\n",
    "\n",
    "    # for boxplot\n",
    "    sns.boxplot(x=df[c], color='red', ax=axes[1])\n",
    "    axes[1].set_title(f'{c} Boxplot')\n",
    "    axes[1].set_xlabel(c)\n",
    "\n",
    "    # for violinplot\n",
    "    sns.violinplot(x=df[c], color = 'navy', ax=axes[2])\n",
    "    axes[2].set_title(f'{c} Violin Plot')\n",
    "    axes[2].set_xlabel(c)\n",
    "\n",
    "plt.tight_layout()\n",
    "plt.show()"
   ]
  },
  {
   "cell_type": "markdown",
   "id": "622fbf19-7e05-4c21-ba5c-6875410804fc",
   "metadata": {},
   "source": [
    "After I applied the log transformation to the 'Fare' feature (creating 'Fare_log'), I visualized the updated distribution using a histogram, boxplot, and violin plot.\n",
    "\n",
    "- The histogram now shows a much more symmetrical and normalized distribution, reducing the original heavy right skew.\n",
    "- The boxplot confirms that extreme outliers have been reduced, while the overall spread is more balanced.\n",
    "- The violin plot further shows that values are more central, with a better distribution.\n",
    "\n",
    "The log transformation effectively prepared the 'Fare' feature for modeling."
   ]
  },
  {
   "cell_type": "markdown",
   "id": "0b151bd8-6df7-4822-9e1b-1159067b4a04",
   "metadata": {},
   "source": [
    "2.  Visualizing the Categorical Columns"
   ]
  },
  {
   "cell_type": "code",
   "execution_count": 56,
   "id": "ab58262f-4d10-4178-bcbf-37a0b314a772",
   "metadata": {
    "scrolled": true
   },
   "outputs": [],
   "source": [
    "# I recalled the categorical columns\n",
    "\n",
    "cat_cols = ['Parch', 'Pclass', 'Sex', 'SibSp', 'Embarked', 'Deck']"
   ]
  },
  {
   "cell_type": "markdown",
   "id": "a81ae343-5450-4069-8587-b4dd19bb064e",
   "metadata": {},
   "source": [
    "The target column 'Survived' is not included at this stage, as it was already visualized earlier using a bar chart, and has been excluded from the feature set during modeling.\n",
    "\n",
    "Here, I focused on visualizing the individual distributions of key categorical features such as 'Sex', 'Pclass', 'Embarked', and 'Deck'. This helped identify any class imbalance and provided insight into the composition of the dataset."
   ]
  },
  {
   "cell_type": "code",
   "execution_count": 57,
   "id": "d39f7503-5064-4729-ad47-653d457d9525",
   "metadata": {},
   "outputs": [
    {
     "data": {
      "image/png": "[encoded data removed]",
      "text/plain": [
       "<Figure size 1000x400 with 1 Axes>"
      ]
     },
     "metadata": {},
     "output_type": "display_data"
    },
    {
     "data": {
      "image/png": "[encoded data removed]",
      "text/plain": [
       "<Figure size 1000x400 with 1 Axes>"
      ]
     },
     "metadata": {},
     "output_type": "display_data"
    },
    {
     "data": {
      "image/png": "[encoded data removed]",
      "text/plain": [
       "<Figure size 1000x400 with 1 Axes>"
      ]
     },
     "metadata": {},
     "output_type": "display_data"
    },
    {
     "data": {
      "image/png": "[encoded data removed]",
      "text/plain": [
       "<Figure size 1000x400 with 1 Axes>"
      ]
     },
     "metadata": {},
     "output_type": "display_data"
    },
    {
     "data": {
      "image/png": "[encoded data removed]",
      "text/plain": [
       "<Figure size 1000x400 with 1 Axes>"
      ]
     },
     "metadata": {},
     "output_type": "display_data"
    },
    {
     "data": {
      "image/png": "[encoded data removed]",
      "text/plain": [
       "<Figure size 1000x400 with 1 Axes>"
      ]
     },
     "metadata": {},
     "output_type": "display_data"
    }
   ],
   "source": [
    "# I looped through the categorical columns to visualize it\n",
    "\n",
    "for col in cat_cols: \n",
    "    plt.figure(figsize = (10,4))\n",
    "    sns.countplot(x=col, data = df, color = 'green')\n",
    "    plt.title(f'{col} Distribution')\n",
    "    plt.xticks(rotation = 45)\n",
    "\n",
    "plt.tight_layout()\n",
    "plt.show()"
   ]
  },
  {
   "cell_type": "markdown",
   "id": "348232a8-4bb3-4681-b830-76173f833acb",
   "metadata": {},
   "source": [
    "From the above visualization:\n",
    "\n",
    "- Parch Distribution: Most passengers had 0 parents/children aboard (Parch = 0) while a small number had Parch = 1 or 2, and very few had Parch greater than 3.\n",
    "- PClass Distribution: The third class (Pclass = 3) has the highest number of passengers, followed by first class (Pclass = 1), and second class (Pclass = 2). This shows that most people on the Titanic were third-class passengers.\n",
    "- Sex Distribution: There were more males than females onboard. This shows that the majority of passengers were male.\n",
    "- SibSp Distribution: Most passengers had 0 siblings/spouses onboard, and a significantly smaller number had 1 or 2, with very few having more than that.\n",
    "- Embarked Distribution: One embarkation port dominated, S (Southampton). C and Q are much smaller.\n",
    "- Deck Distribution: The 'U' category (unknown) is by far the largest. The rest (Decks A through G, T) have small counts."
   ]
  },
  {
   "cell_type": "markdown",
   "id": "cf653e65-a205-44ff-9f8d-95b4d1c81879",
   "metadata": {},
   "source": [
    "## Final Model Prediction After Data Preparation\n",
    "\n",
    "After I completed the data cleaning, transformation, and feature engineering, I reprocessed the dataset and retrained the model using Logistic Regression and other models. \n",
    "\n",
    "This prediction step incorporated all improvements I have made to the data and should yield better and more balanced performance metrics compared to the initial raw predictions."
   ]
  },
  {
   "cell_type": "code",
   "execution_count": 58,
   "id": "ee1bf9a4-d0b3-49d1-b749-9b2e83036e41",
   "metadata": {},
   "outputs": [
    {
     "data": {
      "text/plain": [
       "Index(['Survived', 'Pclass', 'Name', 'Sex', 'Age', 'SibSp', 'Parch', 'Fare',\n",
       "       'Embarked', 'Deck', 'Fare_log'],\n",
       "      dtype='object')"
      ]
     },
     "execution_count": 58,
     "metadata": {},
     "output_type": "execute_result"
    }
   ],
   "source": [
    "# I recalled the columns\n",
    "\n",
    "df.columns"
   ]
  },
  {
   "cell_type": "markdown",
   "id": "cfad83df-db81-4e74-8c45-e545fcda8b7d",
   "metadata": {},
   "source": [
    "## Dropping Original Fare Column\n",
    "\n",
    "Since the 'Fare' feature was highly skewed and I applied a log transformation to produce 'Fare_log', I dropped the original 'Fare' column to avoid redundancy and potential multicollinearity. The transformed feature will be used in modelling going forward."
   ]
  },
  {
   "cell_type": "code",
   "execution_count": 59,
   "id": "ea6a8dbc-1efc-4916-a791-f85c5d0adedb",
   "metadata": {},
   "outputs": [],
   "source": [
    "df.drop('Fare', axis=1, inplace=True)"
   ]
  },
  {
   "cell_type": "code",
   "execution_count": 60,
   "id": "2e59e37b-bc36-4564-8508-956ae6f3938d",
   "metadata": {},
   "outputs": [
    {
     "data": {
      "text/plain": [
       "Index(['Survived', 'Pclass', 'Name', 'Sex', 'Age', 'SibSp', 'Parch',\n",
       "       'Embarked', 'Deck', 'Fare_log'],\n",
       "      dtype='object')"
      ]
     },
     "execution_count": 60,
     "metadata": {},
     "output_type": "execute_result"
    }
   ],
   "source": [
    "# I reconfirmed the columns\n",
    "df.columns"
   ]
  },
  {
   "cell_type": "markdown",
   "id": "32149ea1-0830-46b3-bbe8-a3f459bc15ab",
   "metadata": {},
   "source": [
    "From the above, the original 'Fare' column has been dropped since its skewness was corrected using a log transformation ('Fare_log'). I then proceeded with building and evaluating my predictive models using the transformed dataset."
   ]
  },
  {
   "cell_type": "markdown",
   "id": "6c04412e-daa7-433e-9eaa-c558ba7a4315",
   "metadata": {},
   "source": [
    "## Feature and Target selection"
   ]
  },
  {
   "cell_type": "code",
   "execution_count": 61,
   "id": "8bb84aea-8ee0-4bd6-b4b0-cfbc557aa243",
   "metadata": {},
   "outputs": [],
   "source": [
    "# I reconfirmed the numerical columns\n",
    "\n",
    "num_cols = ['Age', 'Fare_log']"
   ]
  },
  {
   "cell_type": "code",
   "execution_count": 62,
   "id": "121f2dd6-766b-4b6c-8292-94c95b0e41be",
   "metadata": {},
   "outputs": [],
   "source": [
    "# I reassigned the categorical columns\n",
    "\n",
    "cat_cols = ['Survived','Parch', 'Pclass', 'Sex', 'SibSp', 'Embarked', 'Deck']"
   ]
  },
  {
   "cell_type": "code",
   "execution_count": 63,
   "id": "8f1dad37-df77-4364-86f9-ebe802685a68",
   "metadata": {},
   "outputs": [
    {
     "data": {
      "text/plain": [
       "['Survived', 'Parch', 'Pclass', 'Sex', 'SibSp', 'Embarked', 'Deck']"
      ]
     },
     "execution_count": 63,
     "metadata": {},
     "output_type": "execute_result"
    }
   ],
   "source": [
    "cat_cols"
   ]
  },
  {
   "cell_type": "markdown",
   "id": "46c40960-1379-4118-846b-59ea48f4bfd7",
   "metadata": {},
   "source": [
    "## Data Splitting"
   ]
  },
  {
   "cell_type": "code",
   "execution_count": 64,
   "id": "bebb110c-140c-4458-99b3-f8b5107e1382",
   "metadata": {},
   "outputs": [],
   "source": [
    "# I imported the necessary library\n",
    "\n",
    "from sklearn.model_selection import train_test_split"
   ]
  },
  {
   "cell_type": "code",
   "execution_count": 65,
   "id": "2d61ccd6-5122-4902-9ab5-757f0e4466d2",
   "metadata": {},
   "outputs": [],
   "source": [
    "X = df.drop(columns = ['Survived'])\n",
    "y = df['Survived']"
   ]
  },
  {
   "cell_type": "code",
   "execution_count": 66,
   "id": "e80b726f-2989-46bc-8e37-cac7ea433e35",
   "metadata": {},
   "outputs": [],
   "source": [
    "X_train, X_test, y_train, y_test = train_test_split (X, y, test_size = 0.2, random_state = 42, stratify = y)"
   ]
  },
  {
   "cell_type": "code",
   "execution_count": 67,
   "id": "88e48613-4bba-4375-9c8a-e19f818c11d7",
   "metadata": {},
   "outputs": [
    {
     "data": {
      "text/plain": [
       "Index(['Pclass', 'Name', 'Sex', 'Age', 'SibSp', 'Parch', 'Embarked', 'Deck',\n",
       "       'Fare_log'],\n",
       "      dtype='object')"
      ]
     },
     "execution_count": 67,
     "metadata": {},
     "output_type": "execute_result"
    }
   ],
   "source": [
    "# I previewed the X_train columns\n",
    "\n",
    "X_train.columns"
   ]
  },
  {
   "cell_type": "markdown",
   "id": "fbf3c1e6-54f1-4eed-96ef-0a018fd7f4d7",
   "metadata": {},
   "source": [
    "## Data Preprocessing\n",
    "\n",
    "I scaled the numerical features to ensure they are on a similar range, which helps improve model performance. \n",
    "\n",
    "I also encoded the categorical features into a numerical format so they can be used effectively by machine learning algorithms."
   ]
  },
  {
   "cell_type": "code",
   "execution_count": 68,
   "id": "4f9805b2-9cd0-459d-b7ad-98c221b38844",
   "metadata": {},
   "outputs": [],
   "source": [
    "# I imported necessary library\n",
    "\n",
    "from sklearn.preprocessing import StandardScaler, OneHotEncoder"
   ]
  },
  {
   "cell_type": "code",
   "execution_count": 69,
   "id": "95bf1327-42e9-4bd3-9345-75589be32d90",
   "metadata": {},
   "outputs": [],
   "source": [
    "scaler = StandardScaler() "
   ]
  },
  {
   "cell_type": "code",
   "execution_count": 70,
   "id": "a70a8408-0da8-49d5-b999-fc7006380b42",
   "metadata": {},
   "outputs": [],
   "source": [
    "X_train[num_cols] = scaler.fit_transform(X_train[num_cols])\n",
    "X_test[num_cols] = scaler.transform(X_test[num_cols])"
   ]
  },
  {
   "cell_type": "code",
   "execution_count": 71,
   "id": "d5e93b34-9a37-4398-91d6-c9c1e16b4c75",
   "metadata": {},
   "outputs": [],
   "source": [
    "encoder = OneHotEncoder()"
   ]
  },
  {
   "cell_type": "code",
   "execution_count": 72,
   "id": "0a508e64-f818-4bcc-aec9-25aa54bebde3",
   "metadata": {},
   "outputs": [],
   "source": [
    "cat_cols =  ['Parch', 'Pclass', 'Sex', 'SibSp', 'Embarked', 'Deck']"
   ]
  },
  {
   "cell_type": "code",
   "execution_count": 73,
   "id": "8a286938-7053-499c-be88-b8e3cbfda837",
   "metadata": {},
   "outputs": [],
   "source": [
    "train_cat = encoder.fit_transform(X_train[cat_cols])\n",
    "test_cat = encoder.transform(X_test[cat_cols])"
   ]
  },
  {
   "cell_type": "code",
   "execution_count": 74,
   "id": "e13d5e2b-f43a-470b-a685-1b41285277f9",
   "metadata": {},
   "outputs": [],
   "source": [
    "train_cat = train_cat.toarray()\n",
    "test_cat = test_cat.toarray()"
   ]
  },
  {
   "cell_type": "markdown",
   "id": "99168aa4-ae75-4662-b932-0dda45d2edfd",
   "metadata": {},
   "source": [
    "I converted the encoded categorical features from sparse matrices to dense arrays using .toarray().\n",
    "\n",
    "This step is necessary because some machine learning algorithms and further processing steps require input data in a dense format."
   ]
  },
  {
   "cell_type": "markdown",
   "id": "52335980-1dbd-448f-8e22-d0d74a508d4e",
   "metadata": {},
   "source": [
    "## Combining the numerical and categorical columns\n",
    "\n",
    "I combined the scaled numerical features and the encoded categorical features to create the final training and test datasets.\n",
    "\n",
    "This ensures that all relevant features are included and properly formatted for model training and evaluation."
   ]
  },
  {
   "cell_type": "code",
   "execution_count": 75,
   "id": "24ad3532-5032-4c1b-8ff5-baca25264863",
   "metadata": {},
   "outputs": [],
   "source": [
    "train_processed = np.hstack((X_train[num_cols], train_cat))\n",
    "test_processed = np.hstack((X_test[num_cols], test_cat))"
   ]
  },
  {
   "cell_type": "markdown",
   "id": "4aae96b5-54ee-4703-8193-8d0e225fd3a2",
   "metadata": {},
   "source": [
    "## Model Training\n",
    "\n",
    "I retrained and evaluated multiple classification models including Logistic Regression, Decision Tree, Random Forest, and Gradient Boosting. \n",
    "\n",
    "Each model was again compared using accuracy, precision, and recall metrics, it helped to determine which model performs best on the Titanic dataset for predicting passenger survival."
   ]
  },
  {
   "cell_type": "code",
   "execution_count": 76,
   "id": "db6c5812-566d-4565-adb4-f0294d0e1d00",
   "metadata": {},
   "outputs": [],
   "source": [
    "# I imported the necessary libraries\n",
    "\n",
    "from sklearn.linear_model import LogisticRegression\n",
    "from sklearn.tree import DecisionTreeClassifier\n",
    "from sklearn.ensemble import RandomForestClassifier, GradientBoostingClassifier\n",
    "from sklearn.metrics import accuracy_score, precision_score, recall_score, confusion_matrix, ConfusionMatrixDisplay"
   ]
  },
  {
   "cell_type": "code",
   "execution_count": 77,
   "id": "24c655f0-f7ef-4dec-9553-0bfd0b5bb796",
   "metadata": {},
   "outputs": [],
   "source": [
    "models = {\n",
    "    'Logistic Regression': LogisticRegression(max_iter=1000, class_weight='balanced'),\n",
    "    'Decision Tree': DecisionTreeClassifier(random_state=42, class_weight='balanced'),\n",
    "    'Random Forest': RandomForestClassifier(random_state=42, class_weight='balanced'),\n",
    "    'Gradient Boosting': GradientBoostingClassifier(random_state=42)\n",
    "}"
   ]
  },
  {
   "cell_type": "code",
   "execution_count": 78,
   "id": "98cb019e-9594-4ec0-a250-6efe7b3b6b2c",
   "metadata": {},
   "outputs": [
    {
     "data": {
      "image/png": "[encoded data removed]",
      "text/plain": [
       "<Figure size 1800x400 with 8 Axes>"
      ]
     },
     "metadata": {},
     "output_type": "display_data"
    },
    {
     "name": "stdout",
     "output_type": "stream",
     "text": [
      "\n",
      "Classification Metrics\n",
      "                 Logistic Regression  Decision Tree  Random Forest  \\\n",
      "Train Accuracy                 0.806          0.983          0.983   \n",
      "Test Accuracy                  0.782          0.777          0.799   \n",
      "Precision Score                0.754          0.754          0.696   \n",
      "Recall Score                   0.703          0.693          0.762   \n",
      "\n",
      "                 Gradient Boosting  \n",
      "Train Accuracy               0.907  \n",
      "Test Accuracy                0.788  \n",
      "Precision Score              0.638  \n",
      "Recall Score                 0.772  \n"
     ]
    }
   ],
   "source": [
    "results = {}\n",
    "fig, axes = plt.subplots( 1, 4 , figsize = (18,4))\n",
    "\n",
    "for (name, model), ax in zip(models.items(), axes.flatten()): \n",
    "    \n",
    "    # I trained the model\n",
    "    model.fit(train_processed, y_train)\n",
    "\n",
    "     # I predicted train and test \n",
    "    train_pred = model.predict(train_processed)\n",
    "    test_pred = model.predict(test_processed)\n",
    "\n",
    "    # I evaluated the prediction\n",
    "    train_score = accuracy_score (train_pred, y_train)\n",
    "    test_score = accuracy_score (test_pred, y_test)\n",
    "    precision = precision_score (test_pred, y_test)\n",
    "    recall = recall_score(test_pred, y_test)\n",
    "\n",
    "    # I stored my results in a dataframe\n",
    "    results[name] = {\n",
    "        \"Train Accuracy\": train_score,\n",
    "        \"Test Accuracy\": test_score,\n",
    "        \"Precision Score\": precision,\n",
    "        \"Recall Score\": recall\n",
    "    }\n",
    "\n",
    "    # I plotted a confusion matrix\n",
    "    cm = confusion_matrix(test_pred, y_test)\n",
    "    disp = ConfusionMatrixDisplay(cm)\n",
    "    disp.plot(ax = ax, cmap ='Blues')\n",
    "    ax.set_title(name)\n",
    "\n",
    "plt.tight_layout()\n",
    "plt.show()\n",
    "\n",
    "# I printed the metrics\n",
    "print('\\nClassification Metrics')\n",
    "metrics_df = pd.DataFrame(results)\n",
    "print(metrics_df.round(3))"
   ]
  },
  {
   "cell_type": "markdown",
   "id": "cb1311f3-b831-4983-ab5e-60cd5c6067a2",
   "metadata": {},
   "source": [
    "To address the moderate class imbalance in the target variable ('Survived'), I used the (class_weight='balanced') function in the 'Logistic Regression', 'Decision Tree', and 'Random Forest' classifiers. This was done to improve the model's sensitivity to the minority class without altering the dataset.\n",
    "\n",
    "In addition, I set the 'max_iter=1000' parameter in 'LogisticRegression' to allow the optimization algorithm and this is important because after data preprocessing steps like scaling, encoding, and feature transformation, model complexity \n",
    "\n",
    "Worthy of note is that 'GradientBoostingClassifier' does not support the 'class_weight' function."
   ]
  },
  {
   "cell_type": "markdown",
   "id": "42996028-61ed-4cea-ab73-f0ee100ef565",
   "metadata": {},
   "source": [
    "### Model Overview\n",
    "\n",
    "- Logistic Regression had a solid balance with good test performance and strong precision (0.754), but missed some survivors (recall: 0.703).\n",
    "- Decision Tree showed signs of overfitting with a perfect training score but slightly lower test recall (0.693).\n",
    "- Random Forest achieved the best overall balance between accuracy (0.799), precision, and recall (0.762), making it a reliable performer.\n",
    "- Gradient Boosting had the highest recall (0.772), making it suitable for minimizing false negatives, though at the cost of lower precision."
   ]
  },
  {
   "cell_type": "markdown",
   "id": "4f85d1c9-3fa5-453e-bc57-d422d406780d",
   "metadata": {},
   "source": [
    "### Confusion Matrix Insights\n",
    "\n",
    "By plotting and analyzing the confusion matrices, I assessed exactly how each model handled classification errors (false positives vs. false negatives).\n",
    "\n",
    "Random Forest maintained the strongest generalisation, while Gradient Boosting was most effective at identifying survivors."
   ]
  },
  {
   "cell_type": "markdown",
   "id": "5bd25ecd-64e6-4a51-8f90-8ffe5f5a3ad0",
   "metadata": {},
   "source": [
    "## Comparison of Model Performance Before and After Transformation\n",
    "\n",
    "After completing data preprocessing, including log transformation of the 'Fare' feature, scaling numerical features, and applying 'class_weight='balanced' to handle class imbalance, I retrained the models and compared their performance against the results obtained from the raw, untransformed data.\n",
    "\n",
    "### Key Observations:\n",
    "\n",
    "- Logistic Regression:\n",
    "  - Test accuracy slightly decreased (0.810 → 0.782), but precision significantly improved (0.681 → 0.754), indicating fewer false positives.\n",
    "  - However, recall dropped (0.797 → 0.703), meaning the model missed more actual survivors.\n",
    "\n",
    "- Decision Tree:\n",
    "  - Improved test accuracy (0.749 → 0.777) and slightly better recall and precision.\n",
    "  - Still prone to overfitting (train accuracy remains very high at 0.983), but transformation made it more generalizable.\n",
    "\n",
    "- Random Forest:\n",
    "  - Slight drop in all metrics, but it still maintained strong overall performance.\n",
    "  - Recall remained high (0.794 → 0.762) with moderate precision.\n",
    "\n",
    "- Gradient Boosting:\n",
    "  - Results were mostly stable.\n",
    "  - Recall increased slightly (0.759 → 0.772), further improving its ability to identify survivors.\n",
    "  - Precision remained low, which indicates a higher number of false positives."
   ]
  },
  {
   "cell_type": "markdown",
   "id": "8e698bc7-2d32-409c-9ec6-0d0bb11c6602",
   "metadata": {},
   "source": [
    "## Note on Correlation Matrix\n",
    "\n",
    "I did not include a correlation matrix in this analysis. While it can help identify strong relationships between numerical features, especially for linear models like logistic regression, it wasn't necessary here. \n",
    "\n",
    "Since my dataset had relatively few numerical features and I used models like Random Forest and Gradient Boosting, which handle correlations well, the analysis and predictions remained reliable without it."
   ]
  },
  {
   "cell_type": "markdown",
   "id": "27d8796d-b842-42e7-813d-2da83eda98f3",
   "metadata": {},
   "source": [
    "## Conclusion\n",
    "\n",
    "The transformation had an impact on model performance:\n",
    "- Random Forest had the best overall balance between accuracy and recall, making it the strongest generalized model for this classification task.\n",
    "- Gradient Boosting showed the highest recall, which may be preferred in scenarios where identifying as many survivors as possible is critical.\n",
    "- Logistic Regression had the highest precision, indicating fewer false positives. \n",
    "\n",
    "Overall, the machine learning built for this project effectively addressed the problem statement, producing valuable predictions that could be used for further decision-making or historical insights."
   ]
  },
  {
   "cell_type": "code",
   "execution_count": null,
   "id": "161d5c0a-ed7c-4dc5-aee6-ac0b2d70002d",
   "metadata": {},
   "outputs": [],
   "source": []
  }
 ],
 "metadata": {
  "kernelspec": {
   "display_name": "Python 3 (ipykernel)",
   "language": "python",
   "name": "python3"
  },
  "language_info": {
   "codemirror_mode": {
    "name": "ipython",
    "version": 3
   },
   "file_extension": ".py",
   "mimetype": "text/x-python",
   "name": "python",
   "nbconvert_exporter": "python",
   "pygments_lexer": "ipython3",
   "version": "3.12.7"
  }
 },
 "nbformat": 4,
 "nbformat_minor": 5
}
